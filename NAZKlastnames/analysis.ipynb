{
 "cells": [
  {
   "cell_type": "markdown",
   "metadata": {},
   "source": [
    "#### В державних органах можуть працювати багато родичів, що може ставити перепони для інших кандидатів на посаду. Тому метою цього аналізу є перевірка цієї гіпотези. Дані для аналізу були взяті з декларацій державних службовців - [declarations.com.ua](https://declarations.com.ua/static/data/full_export.json.bz2). Об'єдниний архів 2.5 ГБ, в розархівованоми вигляді 82 ГБ. Перед тим як перейти до аналізу з декларації за 2018 була відібрана інформація: фамілія, ім'я, по батькові, місце роботи та посада та збережена в окремому файлі."
   ]
  },
  {
   "cell_type": "code",
   "execution_count": 2,
   "metadata": {},
   "outputs": [
    {
     "data": {
      "text/plain": [
       "'В сирих даних 1268732 записів, де є 342335 неунікальних організацій'"
      ]
     },
     "execution_count": 2,
     "metadata": {},
     "output_type": "execute_result"
    }
   ],
   "source": [
    "import pandas as pd\n",
    "import matplotlib.pyplot as plt\n",
    "data = pd.read_csv('infocards.csv')\n",
    "'В сирих даних {} записів, де є {} неунікальних організацій'.format(data.shape[0], data.office.nunique())"
   ]
  },
  {
   "cell_type": "markdown",
   "metadata": {},
   "source": [
    "#### Переводимо текстову інформацію переведена у верхній регістр. "
   ]
  },
  {
   "cell_type": "code",
   "execution_count": 3,
   "metadata": {},
   "outputs": [],
   "source": [
    "data.loc[:,'first_name'] = data.first_name.str.upper()\n",
    "data.loc[:,'patronymic'] = data.patronymic.str.upper()\n",
    "data.loc[:,'last_name'] = data.last_name.str.upper()\n",
    "data.loc[:,'office'] = data.office.str.upper()"
   ]
  },
  {
   "cell_type": "markdown",
   "metadata": {},
   "source": [
    "#### Видаляємо абревіатури в назві місця роботи та видаляємо лапки, що залишились."
   ]
  },
  {
   "cell_type": "code",
   "execution_count": 4,
   "metadata": {},
   "outputs": [
    {
     "data": {
      "text/plain": [
       "'1268732 записів, де є 292490 організацій'"
      ]
     },
     "execution_count": 4,
     "metadata": {},
     "output_type": "execute_result"
    }
   ],
   "source": [
    "abbs = ['ГУ', 'ВП', 'АТ', 'ПАТ', 'ТОВ', 'ДП', 'КНП', 'КП', 'ГРОМАДСЬКА СПІЛКА', 'ДЕРЖАВНА УСТАНОВА', '\"']\n",
    "for abb in abbs:\n",
    "    data.loc[:,'office'] = data.office.str.replace(abb + '\\s*', '')\n",
    "'{} записів, де є {} організацій'.format(data.shape[0], data.office.nunique())"
   ]
  },
  {
   "cell_type": "markdown",
   "metadata": {},
   "source": [
    "#### Після цього в ручному режимі були перевірені місця роботи, що вказали декларанти. Видаляємо нерелевантні."
   ]
  },
  {
   "cell_type": "code",
   "execution_count": 5,
   "metadata": {},
   "outputs": [
    {
     "data": {
      "text/plain": [
       "'1250822 записів, де є 292470 організацій'"
      ]
     },
     "execution_count": 5,
     "metadata": {},
     "output_type": "execute_result"
    }
   ],
   "source": [
    "# Delete frequent non-relevant offices\n",
    "NROFFS = ['ПЕНСІОНЕР', 'ПЕНСІОНЕРКА', 'ПРАЦЮЮ', 'ПРАЦЮЄ', 'ДОМОГОСПОДАРКА',\n",
    "          'ФІЗИЧНА ОСОБА - ПІДПРИЄМЕЦЬ', 'ФОП', 'ПРИВАТНИЙ ПІДПРИЄМЕЦЬ', 'ФІЗИЧНА ОСОБА-ПІДПРИЄМЕЦЬ', \n",
    "          'ФІЗИЧНА ОСОБА ПІДПРИЄМЕЦЬ', 'ПІДПРИЄМЕЦЬ',\n",
    "          'БЕЗРОБІТНИЙ', 'БЕЗРОБІТНІЙ', 'БЕЗРОБІТНЯ', 'БЕЗРОБІТНА', 'ТИМЧАСОВО НЕ ПРАЦЮЮ', \n",
    "          'ТИМЧАСОВО НЕ ПРАЦЮЄ', 'НЕ ПРАЦЮЮ', 'НЕ ПРАЦЮЄ',\n",
    "          'ВІЙСЬКОВОСЛУЖБОВЕЦЬ ЗБРОЙНИХ СИЛ УКРАЇНИ', 'ВІЙСЬКОВА ЧАСТИНА', 'ВІЙСЬКОВОСЛУЖБОВЕЦЬ', \n",
    "          'ЗСУ', 'ВІЙСЬКОВА ЧАСТИНА',\n",
    "          'УКРАЇНИ', 'ДЕПУТАТ СІЛЬСЬКОЇ РАДИ', 'ДЕПУТАТ', 'СІЛЬСЬКА РАДА', 'МІСЦЕВА ПРОКУРАТУРА', \n",
    "          'В ОДЕСЬКІЙ ОБЛАСТІ', 'М.КИЇВ', 'ДЕТЕКТИВ', 'НЕМАЄ']\n",
    "data = data[~data.office.isin(NROFFS)]\n",
    "'{} записів, де є {} організацій'.format(data.shape[0], data.office.nunique())"
   ]
  },
  {
   "cell_type": "code",
   "execution_count": 6,
   "metadata": {},
   "outputs": [
    {
     "data": {
      "text/plain": [
       "'1250822 записів, де є 290012 організацій'"
      ]
     },
     "execution_count": 6,
     "metadata": {},
     "output_type": "execute_result"
    }
   ],
   "source": [
    "offices = list(map(lambda x: x.strip().upper(), open('offices.txt').readlines()))\n",
    "for off in offices:\n",
    "    data.loc[data.office.str.contains(off), 'office'] = off\n",
    "'{} записів, де є {} організацій'.format(data.shape[0], data.office.nunique())"
   ]
  },
  {
   "cell_type": "markdown",
   "metadata": {},
   "source": [
    "#### Прийшла черга видалити дублікати, бо деякі службовці можуть подати кілька декларацій за рік."
   ]
  },
  {
   "cell_type": "code",
   "execution_count": 7,
   "metadata": {},
   "outputs": [
    {
     "data": {
      "text/plain": [
       "'1010521 записів, де є 290012 організацій'"
      ]
     },
     "execution_count": 7,
     "metadata": {},
     "output_type": "execute_result"
    }
   ],
   "source": [
    "# Drop duplicated declarations\n",
    "data = data.drop_duplicates(['first_name', 'patronymic', 'last_name', 'office'])\n",
    "'{} записів, де є {} організацій'.format(data.shape[0], data.office.nunique())"
   ]
  },
  {
   "cell_type": "markdown",
   "metadata": {},
   "source": [
    "#### Видалямо офіси, \"працюють\" меньше 10 осіб."
   ]
  },
  {
   "cell_type": "code",
   "execution_count": 8,
   "metadata": {},
   "outputs": [
    {
     "data": {
      "text/plain": [
       "'567660 записів, де є 14429 організацій'"
      ]
     },
     "execution_count": 8,
     "metadata": {},
     "output_type": "execute_result"
    }
   ],
   "source": [
    "offices = data.office.value_counts()\n",
    "offices = offices[offices > 10]\n",
    "data = data[data.office.isin(offices.index)]\n",
    "'{} записів, де є {} організацій'.format(data.shape[0], data.office.nunique())"
   ]
  },
  {
   "cell_type": "markdown",
   "metadata": {},
   "source": [
    "#### Додаємо стовпчик з коефіцієнтом частоти фамілії (100 * кількість людей з такою ж фамілією / на кількість всіх)"
   ]
  },
  {
   "cell_type": "code",
   "execution_count": 9,
   "metadata": {},
   "outputs": [],
   "source": [
    "surnames = data.groupby('last_name').agg({'id': 'count'}).reset_index().rename(columns={'id': 'last_name_k'})\n",
    "surnames = surnames.assign(last_name_k=lambda x: 100 * x.last_name_k / data.shape[0])\n",
    "data = data.merge(surnames, on='last_name', how='left')"
   ]
  },
  {
   "cell_type": "markdown",
   "metadata": {},
   "source": [
    "#### Рахуємо кількість однакових фамілій в одній структурі"
   ]
  },
  {
   "cell_type": "code",
   "execution_count": 10,
   "metadata": {},
   "outputs": [],
   "source": [
    "grouped = data.groupby(['office', 'last_name'])\\\n",
    "    .agg(surname_count=('id', 'count'), surname_coef=('last_name_k', 'first')).reset_index()"
   ]
  },
  {
   "cell_type": "markdown",
   "metadata": {},
   "source": [
    "#### Рахуємо кількість працівників в одній структурі"
   ]
  },
  {
   "cell_type": "code",
   "execution_count": 11,
   "metadata": {},
   "outputs": [],
   "source": [
    "employees = grouped.groupby('office').agg(employees=('surname_count', 'sum'))\n",
    "grouped = grouped.merge(employees, on='office', how='left')"
   ]
  },
  {
   "cell_type": "markdown",
   "metadata": {},
   "source": [
    "#### Викидаємо фамілії, які зустрічаються лише раз"
   ]
  },
  {
   "cell_type": "code",
   "execution_count": 12,
   "metadata": {},
   "outputs": [],
   "source": [
    "grouped = grouped[grouped.surname_count > 1]"
   ]
  },
  {
   "cell_type": "markdown",
   "metadata": {},
   "source": [
    "#### Вираховуємо ранг для кожної фамілії (килькість / коєфіцієнт)"
   ]
  },
  {
   "cell_type": "code",
   "execution_count": 13,
   "metadata": {},
   "outputs": [],
   "source": [
    "grouped = grouped.assign(rank=lambda x: x.surname_count / x.surname_coef)"
   ]
  },
  {
   "cell_type": "markdown",
   "metadata": {},
   "source": [
    "#### Зберігаємо фаміліїї та їх кількість в окремій змінній та видаляємо непотрібні стовпчики"
   ]
  },
  {
   "cell_type": "code",
   "execution_count": 14,
   "metadata": {},
   "outputs": [],
   "source": [
    "grouped['surnames'] = grouped.last_name + '-' + grouped.surname_count.astype(str)\n",
    "grouped = grouped.drop(['surname_coef', 'last_name', 'surname_count'], axis=1)"
   ]
  },
  {
   "cell_type": "markdown",
   "metadata": {},
   "source": [
    "#### Рахуємо суммарний ранг для кожної структури та ділимо на кількість робітників"
   ]
  },
  {
   "cell_type": "code",
   "execution_count": 15,
   "metadata": {},
   "outputs": [],
   "source": [
    "grouped = grouped.groupby('office')\\\n",
    "    .agg(rank=('rank', 'sum'), employees=('employees', 'first'), surnames=('surnames', list)).reset_index()\n",
    "grouped['rank'] = grouped['rank'] / grouped['employees']"
   ]
  },
  {
   "cell_type": "markdown",
   "metadata": {},
   "source": [
    "##### Дивимось на структури де більше 500 співробітників та більше всього однофамільців"
   ]
  },
  {
   "cell_type": "code",
   "execution_count": 17,
   "metadata": {},
   "outputs": [
    {
     "data": {
      "text/html": [
       "<div>\n",
       "<style scoped>\n",
       "    .dataframe tbody tr th:only-of-type {\n",
       "        vertical-align: middle;\n",
       "    }\n",
       "\n",
       "    .dataframe tbody tr th {\n",
       "        vertical-align: top;\n",
       "    }\n",
       "\n",
       "    .dataframe thead th {\n",
       "        text-align: right;\n",
       "    }\n",
       "</style>\n",
       "<table border=\"1\" class=\"dataframe\">\n",
       "  <thead>\n",
       "    <tr style=\"text-align: right;\">\n",
       "      <th></th>\n",
       "      <th>office</th>\n",
       "      <th>rank</th>\n",
       "      <th>employees</th>\n",
       "      <th>surnames</th>\n",
       "    </tr>\n",
       "  </thead>\n",
       "  <tbody>\n",
       "    <tr>\n",
       "      <th>2367</th>\n",
       "      <td>ЗАКАРПСЬКА МИТНИЦЯ ДФС</td>\n",
       "      <td>122.405830</td>\n",
       "      <td>857</td>\n",
       "      <td>[АНДРІЙЧУК-2, БАБИЧ-2, БАРАН-2, БОДНАР-2, ВАСИ...</td>\n",
       "    </tr>\n",
       "    <tr>\n",
       "      <th>1141</th>\n",
       "      <td>ВОЛИНСЬКА МИТНИЦЯ ДФС</td>\n",
       "      <td>106.058402</td>\n",
       "      <td>545</td>\n",
       "      <td>[ЄВТУШОК-3, АНТОНЮК-2, БІСЮК-3, БОНДАР-2, БОНД...</td>\n",
       "    </tr>\n",
       "    <tr>\n",
       "      <th>3039</th>\n",
       "      <td>ЛЬВІВСЬКА МИТНИЦЯ ДФС</td>\n",
       "      <td>89.740447</td>\n",
       "      <td>845</td>\n",
       "      <td>[ІВАНУСА-3, БІДНИК-2, БІЛИК-2, БАНАХ-2, БАРАН-...</td>\n",
       "    </tr>\n",
       "    <tr>\n",
       "      <th>1502</th>\n",
       "      <td>ГОЛОВНЕ УПРАВЛІННЯ ПЕНСІЙНОГО ФОНДУ УКРАЇНИ В ...</td>\n",
       "      <td>72.847419</td>\n",
       "      <td>712</td>\n",
       "      <td>[АНТОНЮК-2, АНТОШИНА-2, БЕРНАЦЬКА-2, БОЙКО-2, ...</td>\n",
       "    </tr>\n",
       "    <tr>\n",
       "      <th>3411</th>\n",
       "      <td>НВКГ ЗОРЯ-МАШПРОЕКТ</td>\n",
       "      <td>71.793333</td>\n",
       "      <td>705</td>\n",
       "      <td>[ІВАНОВ-4, ІСАКОВ-2, АЛЕКСЄЄНКО-2, АРТАМОНОВ-2...</td>\n",
       "    </tr>\n",
       "    <tr>\n",
       "      <th>1511</th>\n",
       "      <td>ГОЛОВНЕ УПРАВЛІННЯ ПЕНСІЙНОГО ФОНДУ УКРАЇНИ У ...</td>\n",
       "      <td>67.390799</td>\n",
       "      <td>1148</td>\n",
       "      <td>[ІВАНЕЦЬ-2, ІВАНЮК-3, ІВАХОВИЧ-2, БІЛЕЦЬКА-2, ...</td>\n",
       "    </tr>\n",
       "    <tr>\n",
       "      <th>1469</th>\n",
       "      <td>ГОЛОВНЕ УПРАВЛІННЯ НАЦІОНАЛЬНОЇ ПОЛІЦІЇ В ЧЕРН...</td>\n",
       "      <td>66.833189</td>\n",
       "      <td>835</td>\n",
       "      <td>[ЄВТУШЕНКО-2, ЄРМОЛЕНКО-3, ЄФИМЕНКО-2, ІВАНОВ-...</td>\n",
       "    </tr>\n",
       "    <tr>\n",
       "      <th>1779</th>\n",
       "      <td>ДЕРЖАВНА ІНСПЕКЦІЯ ЕНЕРГЕТИЧНОГО НАГЛЯДУ УКРАЇНИ</td>\n",
       "      <td>60.091352</td>\n",
       "      <td>533</td>\n",
       "      <td>[ІВАНОВ-2, БАБИЧ-2, БОЖКО-2, БОНДАР-3, БОНДАРЕ...</td>\n",
       "    </tr>\n",
       "    <tr>\n",
       "      <th>5269</th>\n",
       "      <td>ХАРКІВСЬКА МИТНИЦЯ ДФС</td>\n",
       "      <td>59.843834</td>\n",
       "      <td>517</td>\n",
       "      <td>[БЄЛЄВЦОВ-2, БІЛЮК-2, БАШТЕНКО-2, БОНДАРЕНКО-2...</td>\n",
       "    </tr>\n",
       "    <tr>\n",
       "      <th>3963</th>\n",
       "      <td>ПРОКУРУРА ХАРКІВСЬКОЇ ОБЛАСТІ</td>\n",
       "      <td>57.915419</td>\n",
       "      <td>507</td>\n",
       "      <td>[ЄВТУШЕНКО-2, ЄНА-2, АНУШКЕВИЧ-2, БОЖКО-2, БОН...</td>\n",
       "    </tr>\n",
       "    <tr>\n",
       "      <th>3554</th>\n",
       "      <td>НП У ЛЬВІВСЬКІЙ ОБЛАСТІ</td>\n",
       "      <td>54.371115</td>\n",
       "      <td>684</td>\n",
       "      <td>[ІВАНЮРА-3, ІЛЬЧИШИН-2, АНДРУХІВ-2, БОРИС-3, В...</td>\n",
       "    </tr>\n",
       "    <tr>\n",
       "      <th>2264</th>\n",
       "      <td>ДФС У ЛЬВІВСЬКІЙ ОБЛАСТІ</td>\n",
       "      <td>51.908648</td>\n",
       "      <td>777</td>\n",
       "      <td>[ІВАНИШИН-2, АНТОНЮК-2, БАГРІЙ-2, БЕЛЯ-2, БОДН...</td>\n",
       "    </tr>\n",
       "    <tr>\n",
       "      <th>3527</th>\n",
       "      <td>НП В ЛУГАНСЬКІЙ ОБЛАСТІ</td>\n",
       "      <td>51.574285</td>\n",
       "      <td>807</td>\n",
       "      <td>[АНТЮХІН-2, БОНДАР-3, БОНДАРЕНКО-2, БУГАЙОВ-2,...</td>\n",
       "    </tr>\n",
       "    <tr>\n",
       "      <th>3533</th>\n",
       "      <td>НП В ОДЕСЬКІЙ ОБЛАСТІ</td>\n",
       "      <td>48.963373</td>\n",
       "      <td>914</td>\n",
       "      <td>[ІВАНОВ-2, ІЩЕНКО-2, АВРАМЕНКО-3, АЛЄКСЄЄНКО-2...</td>\n",
       "    </tr>\n",
       "    <tr>\n",
       "      <th>1228</th>\n",
       "      <td>ГЕНЕРАЛЬНА ПРОКУРУРА УКРАЇНИ</td>\n",
       "      <td>48.914115</td>\n",
       "      <td>1794</td>\n",
       "      <td>[ЄРЕМЕНКО-2, ІВАНЧЕНКО-2, ІВАЩЕНКО-3, АБДУЛЛАЄ...</td>\n",
       "    </tr>\n",
       "    <tr>\n",
       "      <th>2584</th>\n",
       "      <td>КИЇВСЬКА МИТНИЦЯ ДФС</td>\n",
       "      <td>48.819993</td>\n",
       "      <td>547</td>\n",
       "      <td>[БЕЗСМЕРТНИЙ-2, БОНДАР-5, ВОЛОЩУК-2, ГАВРИЛЮК-...</td>\n",
       "    </tr>\n",
       "    <tr>\n",
       "      <th>3593</th>\n",
       "      <td>ОДЕСЬКА МИТНИЦЯ ДФС</td>\n",
       "      <td>47.490942</td>\n",
       "      <td>1037</td>\n",
       "      <td>[ЄРШОВ-2, ЄРЬОМЕНКО-2, ІВАНОВ-4, ІОРГАЧОВ-3, А...</td>\n",
       "    </tr>\n",
       "    <tr>\n",
       "      <th>3523</th>\n",
       "      <td>НП В ЗАПОРІЗЬКІЙ ОБЛАСТІ</td>\n",
       "      <td>46.404202</td>\n",
       "      <td>650</td>\n",
       "      <td>[ЄРЬОМЕНКО-2, БОЙКО-4, БОНДАРЕНКО-2, ВАСИЛЬЧЕН...</td>\n",
       "    </tr>\n",
       "    <tr>\n",
       "      <th>2581</th>\n",
       "      <td>КИЇВСЬКА МІСЬКА МИТНИЦЯ ДФС</td>\n",
       "      <td>46.215152</td>\n",
       "      <td>505</td>\n",
       "      <td>[ІВАНОВ-4, ІВАЩЕНКО-2, ВЛАСЕНКО-2, ГАСКЕВИЧ-2,...</td>\n",
       "    </tr>\n",
       "    <tr>\n",
       "      <th>2250</th>\n",
       "      <td>ДФС В ОДЕСЬКІЙ ОБЛАСТІ</td>\n",
       "      <td>43.706694</td>\n",
       "      <td>646</td>\n",
       "      <td>[ЄРЕНЧУК-2, ЄСЕПЬОНОК-2, ІВАНОВА-2, АНТОНОВА-3...</td>\n",
       "    </tr>\n",
       "  </tbody>\n",
       "</table>\n",
       "</div>"
      ],
      "text/plain": [
       "                                                 office        rank  \\\n",
       "2367                             ЗАКАРПСЬКА МИТНИЦЯ ДФС  122.405830   \n",
       "1141                              ВОЛИНСЬКА МИТНИЦЯ ДФС  106.058402   \n",
       "3039                              ЛЬВІВСЬКА МИТНИЦЯ ДФС   89.740447   \n",
       "1502  ГОЛОВНЕ УПРАВЛІННЯ ПЕНСІЙНОГО ФОНДУ УКРАЇНИ В ...   72.847419   \n",
       "3411                                НВКГ ЗОРЯ-МАШПРОЕКТ   71.793333   \n",
       "1511  ГОЛОВНЕ УПРАВЛІННЯ ПЕНСІЙНОГО ФОНДУ УКРАЇНИ У ...   67.390799   \n",
       "1469  ГОЛОВНЕ УПРАВЛІННЯ НАЦІОНАЛЬНОЇ ПОЛІЦІЇ В ЧЕРН...   66.833189   \n",
       "1779   ДЕРЖАВНА ІНСПЕКЦІЯ ЕНЕРГЕТИЧНОГО НАГЛЯДУ УКРАЇНИ   60.091352   \n",
       "5269                             ХАРКІВСЬКА МИТНИЦЯ ДФС   59.843834   \n",
       "3963                      ПРОКУРУРА ХАРКІВСЬКОЇ ОБЛАСТІ   57.915419   \n",
       "3554                            НП У ЛЬВІВСЬКІЙ ОБЛАСТІ   54.371115   \n",
       "2264                           ДФС У ЛЬВІВСЬКІЙ ОБЛАСТІ   51.908648   \n",
       "3527                            НП В ЛУГАНСЬКІЙ ОБЛАСТІ   51.574285   \n",
       "3533                              НП В ОДЕСЬКІЙ ОБЛАСТІ   48.963373   \n",
       "1228                       ГЕНЕРАЛЬНА ПРОКУРУРА УКРАЇНИ   48.914115   \n",
       "2584                               КИЇВСЬКА МИТНИЦЯ ДФС   48.819993   \n",
       "3593                                ОДЕСЬКА МИТНИЦЯ ДФС   47.490942   \n",
       "3523                           НП В ЗАПОРІЗЬКІЙ ОБЛАСТІ   46.404202   \n",
       "2581                        КИЇВСЬКА МІСЬКА МИТНИЦЯ ДФС   46.215152   \n",
       "2250                             ДФС В ОДЕСЬКІЙ ОБЛАСТІ   43.706694   \n",
       "\n",
       "      employees                                           surnames  \n",
       "2367        857  [АНДРІЙЧУК-2, БАБИЧ-2, БАРАН-2, БОДНАР-2, ВАСИ...  \n",
       "1141        545  [ЄВТУШОК-3, АНТОНЮК-2, БІСЮК-3, БОНДАР-2, БОНД...  \n",
       "3039        845  [ІВАНУСА-3, БІДНИК-2, БІЛИК-2, БАНАХ-2, БАРАН-...  \n",
       "1502        712  [АНТОНЮК-2, АНТОШИНА-2, БЕРНАЦЬКА-2, БОЙКО-2, ...  \n",
       "3411        705  [ІВАНОВ-4, ІСАКОВ-2, АЛЕКСЄЄНКО-2, АРТАМОНОВ-2...  \n",
       "1511       1148  [ІВАНЕЦЬ-2, ІВАНЮК-3, ІВАХОВИЧ-2, БІЛЕЦЬКА-2, ...  \n",
       "1469        835  [ЄВТУШЕНКО-2, ЄРМОЛЕНКО-3, ЄФИМЕНКО-2, ІВАНОВ-...  \n",
       "1779        533  [ІВАНОВ-2, БАБИЧ-2, БОЖКО-2, БОНДАР-3, БОНДАРЕ...  \n",
       "5269        517  [БЄЛЄВЦОВ-2, БІЛЮК-2, БАШТЕНКО-2, БОНДАРЕНКО-2...  \n",
       "3963        507  [ЄВТУШЕНКО-2, ЄНА-2, АНУШКЕВИЧ-2, БОЖКО-2, БОН...  \n",
       "3554        684  [ІВАНЮРА-3, ІЛЬЧИШИН-2, АНДРУХІВ-2, БОРИС-3, В...  \n",
       "2264        777  [ІВАНИШИН-2, АНТОНЮК-2, БАГРІЙ-2, БЕЛЯ-2, БОДН...  \n",
       "3527        807  [АНТЮХІН-2, БОНДАР-3, БОНДАРЕНКО-2, БУГАЙОВ-2,...  \n",
       "3533        914  [ІВАНОВ-2, ІЩЕНКО-2, АВРАМЕНКО-3, АЛЄКСЄЄНКО-2...  \n",
       "1228       1794  [ЄРЕМЕНКО-2, ІВАНЧЕНКО-2, ІВАЩЕНКО-3, АБДУЛЛАЄ...  \n",
       "2584        547  [БЕЗСМЕРТНИЙ-2, БОНДАР-5, ВОЛОЩУК-2, ГАВРИЛЮК-...  \n",
       "3593       1037  [ЄРШОВ-2, ЄРЬОМЕНКО-2, ІВАНОВ-4, ІОРГАЧОВ-3, А...  \n",
       "3523        650  [ЄРЬОМЕНКО-2, БОЙКО-4, БОНДАРЕНКО-2, ВАСИЛЬЧЕН...  \n",
       "2581        505  [ІВАНОВ-4, ІВАЩЕНКО-2, ВЛАСЕНКО-2, ГАСКЕВИЧ-2,...  \n",
       "2250        646  [ЄРЕНЧУК-2, ЄСЕПЬОНОК-2, ІВАНОВА-2, АНТОНОВА-3...  "
      ]
     },
     "execution_count": 17,
     "metadata": {},
     "output_type": "execute_result"
    }
   ],
   "source": [
    "grouped[grouped.employees > 500].sort_values('rank', ascending=False).head(20)"
   ]
  },
  {
   "cell_type": "code",
   "execution_count": null,
   "metadata": {},
   "outputs": [],
   "source": []
  },
  {
   "cell_type": "code",
   "execution_count": null,
   "metadata": {},
   "outputs": [],
   "source": []
  },
  {
   "cell_type": "code",
   "execution_count": null,
   "metadata": {},
   "outputs": [],
   "source": []
  }
 ],
 "metadata": {
  "kernelspec": {
   "display_name": "Python 3",
   "language": "python",
   "name": "python3"
  },
  "language_info": {
   "codemirror_mode": {
    "name": "ipython",
    "version": 3
   },
   "file_extension": ".py",
   "mimetype": "text/x-python",
   "name": "python",
   "nbconvert_exporter": "python",
   "pygments_lexer": "ipython3",
   "version": "3.6.9"
  }
 },
 "nbformat": 4,
 "nbformat_minor": 2
}
