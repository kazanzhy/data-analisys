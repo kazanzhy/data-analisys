{
 "cells": [
  {
   "cell_type": "code",
   "execution_count": 1,
   "metadata": {},
   "outputs": [],
   "source": [
    "%matplotlib inline\n",
    "import matplotlib.pyplot as plt\n",
    "from sklearn.model_selection import train_test_split\n",
    "from sklearn.linear_model import LinearRegression\n",
    "from sklearn.tree import DecisionTreeRegressor\n",
    "import numpy as np\n",
    "import pandas as pd\n",
    "import seaborn as sns"
   ]
  },
  {
   "cell_type": "code",
   "execution_count": 2,
   "metadata": {},
   "outputs": [],
   "source": [
    "def intersect_over_union(boxes):\n",
    "    assert(len(boxes) == 8)\n",
    "    boxA = boxes[:4].values\n",
    "    boxB = boxes[4:].values\n",
    "    \n",
    "    boxAArea = (boxA[2] - boxA[0] + 1) * (boxA[3] - boxA[1] + 1)\n",
    "    boxBArea = (boxB[2] - boxB[0] + 1) * (boxB[3] - boxB[1] + 1)\n",
    "    \n",
    "    if (boxAArea == 0 or boxBArea == 0):\n",
    "        return 0\n",
    "        \n",
    "    xA = max(boxA[0], boxB[0])\n",
    "    yA = max(boxA[1], boxB[1])\n",
    "    xB = min(boxA[2], boxB[2])\n",
    "    yB = min(boxA[3], boxB[3])\n",
    "\n",
    "    interArea = max(0, xB - xA + 1) * max(0, yB - yA + 1)\n",
    "\n",
    "    iou = interArea / float(boxAArea + boxBArea - interArea)\n",
    "    return iou\n",
    "\n",
    "def metrica(predicted, ground):\n",
    "    assert ground.shape[0] == predicted.shape[0], 'DataFrames should have equal length'\n",
    "    iou = list()\n",
    "    for i in range(ground.shape[0]):\n",
    "        temp_row = pd.concat([predicted.iloc[i], ground.iloc[i]])\n",
    "        temp_val = intersect_over_union(temp_row)\n",
    "        iou.append(temp_val)\n",
    "    return pd.Series(iou)"
   ]
  },
  {
   "cell_type": "code",
   "execution_count": 3,
   "metadata": {},
   "outputs": [],
   "source": [
    "votes = pd.read_csv(\"train_data.csv\")\n",
    "answers = pd.read_csv(\"train_answers.csv\")\n",
    "test = pd.read_csv(\"test_data.csv\")"
   ]
  },
  {
   "cell_type": "code",
   "execution_count": 4,
   "metadata": {},
   "outputs": [],
   "source": [
    "quorum = votes.groupby(\"itemId\")[['Xmin','Ymin', 'Xmax', 'Ymax']].mean().reset_index()\n",
    "data = quorum.merge(answers, on=['itemId'])\n",
    "data['iou'] = data[['Xmin','Ymin', 'Xmax', 'Ymax', 'Xmin_true', 'Ymin_true', 'Xmax_true','Ymax_true']].apply(intersect_over_union, axis=1)"
   ]
  },
  {
   "cell_type": "code",
   "execution_count": 5,
   "metadata": {},
   "outputs": [],
   "source": [
    "test = test.groupby(\"itemId\")[['Xmin','Ymin', 'Xmax', 'Ymax']].mean().round().astype(int).reset_index()\n",
    "#out.to_csv('submit.csv', header=False, index=False)"
   ]
  },
  {
   "cell_type": "code",
   "execution_count": 6,
   "metadata": {},
   "outputs": [],
   "source": [
    "# Separate linear models\n",
    "test = test.groupby(\"itemId\")[['Xmin','Ymin', 'Xmax', 'Ymax']].mean().round().astype(int).reset_index()\n",
    "out = pd.DataFrame()\n",
    "out['itemId'] = test['itemId']\n",
    "\n",
    "lr_x_min = LinearRegression()\n",
    "lr_x_min.fit(data[['Xmin','Ymin', 'Xmax', 'Ymax']], data['Xmin_true'])\n",
    "out['Xmin'] = pd.Series(lr_x_min.predict(test[['Xmin','Ymin', 'Xmax', 'Ymax']]))\n",
    "\n",
    "lr_y_min = LinearRegression()\n",
    "lr_y_min.fit(data[['Xmin','Ymin', 'Xmax', 'Ymax']], data['Ymin_true'])\n",
    "out['Ymin'] = pd.Series(lr_y_min.predict(test[['Xmin','Ymin', 'Xmax', 'Ymax']]))\n",
    "\n",
    "lr_x_max = LinearRegression()\n",
    "lr_x_max.fit(data[['Xmin','Ymin', 'Xmax', 'Ymax']], data['Xmax_true'])\n",
    "out['Xmax'] = pd.Series(lr_x_max.predict(test[['Xmin','Ymin', 'Xmax', 'Ymax']]))\n",
    "\n",
    "lr_y_max = LinearRegression()\n",
    "lr_y_max.fit(data[['Xmin','Ymin', 'Xmax', 'Ymax']], data['Ymax_true'])\n",
    "out['Ymax'] = pd.Series(lr_y_max.predict(test[['Xmin','Ymin', 'Xmax', 'Ymax']]))\n",
    "\n",
    "out.to_csv('submit.csv', header=False, index=False)"
   ]
  },
  {
   "cell_type": "code",
   "execution_count": 7,
   "metadata": {},
   "outputs": [],
   "source": [
    "# Separate decision trees\n",
    "test = test.groupby(\"itemId\")[['Xmin','Ymin', 'Xmax', 'Ymax']].mean().round().astype(int).reset_index()\n",
    "out = pd.DataFrame()\n",
    "out['itemId'] = test['itemId']\n",
    "\n",
    "lr_x_min = DecisionTreeRegressor(max_depth=5)\n",
    "lr_x_min.fit(data[['Xmin','Ymin', 'Xmax', 'Ymax']], data['Xmin_true'])\n",
    "out['Xmin'] = pd.Series(lr_x_min.predict(test[['Xmin','Ymin', 'Xmax', 'Ymax']]))\n",
    "\n",
    "lr_y_min = DecisionTreeRegressor(max_depth=5)\n",
    "lr_y_min.fit(data[['Xmin','Ymin', 'Xmax', 'Ymax']], data['Ymin_true'])\n",
    "out['Ymin'] = pd.Series(lr_y_min.predict(test[['Xmin','Ymin', 'Xmax', 'Ymax']]))\n",
    "\n",
    "lr_x_max = DecisionTreeRegressor(max_depth=5)\n",
    "lr_x_max.fit(data[['Xmin','Ymin', 'Xmax', 'Ymax']], data['Xmax_true'])\n",
    "out['Xmax'] = pd.Series(lr_x_max.predict(test[['Xmin','Ymin', 'Xmax', 'Ymax']]))\n",
    "\n",
    "lr_y_max = DecisionTreeRegressor(max_depth=5)\n",
    "lr_y_max.fit(data[['Xmin','Ymin', 'Xmax', 'Ymax']], data['Ymax_true'])\n",
    "out['Ymax'] = pd.Series(lr_y_max.predict(test[['Xmin','Ymin', 'Xmax', 'Ymax']]))\n",
    "\n",
    "out.to_csv('submit.csv', header=False, index=False)"
   ]
  },
  {
   "cell_type": "code",
   "execution_count": null,
   "metadata": {},
   "outputs": [],
   "source": []
  }
 ],
 "metadata": {
  "kernelspec": {
   "display_name": "Python 3",
   "language": "python",
   "name": "python3"
  },
  "language_info": {
   "codemirror_mode": {
    "name": "ipython",
    "version": 3
   },
   "file_extension": ".py",
   "mimetype": "text/x-python",
   "name": "python",
   "nbconvert_exporter": "python",
   "pygments_lexer": "ipython3",
   "version": "3.8.5"
  }
 },
 "nbformat": 4,
 "nbformat_minor": 4
}
