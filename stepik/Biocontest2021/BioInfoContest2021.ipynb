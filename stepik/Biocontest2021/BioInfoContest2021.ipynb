{
 "cells": [
  {
   "cell_type": "code",
   "execution_count": 1,
   "metadata": {},
   "outputs": [],
   "source": [
    "import numpy as np\n",
    "import pandas as pd"
   ]
  },
  {
   "cell_type": "markdown",
   "metadata": {},
   "source": [
    "### Introduction"
   ]
  },
  {
   "cell_type": "code",
   "execution_count": 4,
   "metadata": {},
   "outputs": [],
   "source": [
    "link_template = 'https://stepik.org/media/attachments/lesson/60794/{0}.zip'"
   ]
  },
  {
   "cell_type": "code",
   "execution_count": 9,
   "metadata": {
    "collapsed": true,
    "jupyter": {
     "outputs_hidden": true
    }
   },
   "outputs": [
    {
     "name": "stdout",
     "output_type": "stream",
     "text": [
      "0    [1, 5]\n",
      "1    [9, 9]\n",
      "2    [8, 5]\n",
      "3    [5, 4]\n",
      "4    [0, 7]\n",
      "Name: 0, dtype: object\n"
     ]
    },
    {
     "data": {
      "text/plain": [
       "0     6\n",
       "1    18\n",
       "2    13\n",
       "3     9\n",
       "4     7\n",
       "5     8\n",
       "6    10\n",
       "7     8\n",
       "8    12\n",
       "9     9\n",
       "Name: 0, dtype: int64"
      ]
     },
     "execution_count": 9,
     "metadata": {},
     "output_type": "execute_result"
    }
   ],
   "source": [
    "from functools import partial, reduce\n",
    "from operator import add\n",
    "\n",
    "name = 'test-A'\n",
    "df = pd.read_csv(link_template.format(name), header=None, compression='zip', skiprows=1)\n",
    "\n",
    "toInt = partial(map, int)\n",
    "redInt = partial(reduce, add)\n",
    "\n",
    "df = df[0].str.split()\n",
    "print(df.head())\n",
    "\n",
    "out = df.apply(toInt).apply(redInt)\n",
    "out.to_csv(f'Introduction/{name}_out.csv', index=False, header=False)\n",
    "out"
   ]
  },
  {
   "cell_type": "code",
   "execution_count": 6,
   "metadata": {
    "collapsed": true,
    "jupyter": {
     "outputs_hidden": true
    }
   },
   "outputs": [
    {
     "data": {
      "text/plain": [
       "0    3 10 49 153 176 206 213 262 278 285 301 308 37...\n",
       "1    15 34 49 56 117 193 218 254 261 268 313 371 40...\n",
       "2    38 47 65 104 121 227 244 278 285 297 304 319 3...\n",
       "3    30 81 96 106 129 146 192 220 329 424 490 643 7...\n",
       "4    29 58 78 103 130 149 259 266 405 420 450 554 5...\n",
       "5    3 88 95 110 205 255 333 351 488 512 519 578 60...\n",
       "6    19 155 202 217 224 236 284 340 391 398 419 426...\n",
       "7    155 162 222 304 477 484 527 555 570 585 592 61...\n",
       "8    2 34 71 136 183 199 242 280 295 304 341 396 46...\n",
       "9    20 38 45 74 81 96 129 185 192 264 271 287 294 ...\n",
       "dtype: object"
      ]
     },
     "execution_count": 6,
     "metadata": {},
     "output_type": "execute_result"
    }
   ],
   "source": [
    "from re import finditer\n",
    "from operator import methodcaller\n",
    "from functools import partial\n",
    "\n",
    "name = 'test-B'\n",
    "df = pd.read_csv(link_template.format(name), header=None, compression='zip', skiprows=1)\n",
    "\n",
    "seqs = df.loc[0::2, 0].reset_index(drop=True)\n",
    "pats = df.loc[1::2, 0].reset_index(drop=True)\n",
    "\n",
    "df = pd.concat([seqs, pats], axis=1, ignore_index=True)\n",
    "\n",
    "out = df.apply(lambda x: [str(i.start() + 1) for i in finditer(f'(?=({x[1]}))', x[0])], axis=1).str.join(' ')\n",
    "\n",
    "out.to_csv(f'Introduction/{name}_out.csv', index=False, header=False)\n",
    "out"
   ]
  },
  {
   "cell_type": "markdown",
   "metadata": {},
   "source": [
    "### Epigenomic Marks"
   ]
  },
  {
   "cell_type": "code",
   "execution_count": 18,
   "metadata": {},
   "outputs": [],
   "source": [
    "def get_states(seq_lst: list):\n",
    "    patterns = {'': 0}\n",
    "    result = []\n",
    "    for state in zip(*seq_lst):\n",
    "        state = ''.join(state)\n",
    "        if state not in patterns:\n",
    "            max_state = max(patterns.values())\n",
    "            patterns[state] = max_state + 1\n",
    "        result.append(patterns.get(state)) \n",
    "    return max(patterns.values()), ' '.join(map(str, result))\n",
    "\n",
    "\n",
    "file = '2'\n",
    "fi = open(f'Epigenomic Marks/{file}.txt')\n",
    "fo = open(f'Epigenomic Marks/{file}_out.txt', 'w')\n",
    "\n",
    "tests_num = int(fi.readline())\n",
    "for t in range(tests_num):\n",
    "    \n",
    "    seq_num, seq_len = map(int, fi.readline().strip().split())\n",
    "    test_seqs = []\n",
    "    for n in range(seq_num):\n",
    "        test_seqs.append(fi.readline().strip())\n",
    "    max_state, states = get_states(test_seqs)\n",
    "    fo.write(f'{max_state}\\n{states}\\n')\n",
    "\n",
    "fi.close()\n",
    "fo.close()"
   ]
  },
  {
   "cell_type": "markdown",
   "metadata": {},
   "source": [
    "### Metabolite Annotation"
   ]
  },
  {
   "cell_type": "code",
   "execution_count": 12,
   "metadata": {},
   "outputs": [],
   "source": [
    "# Matrix for 1,2,3,5\n",
    "file = '0'\n",
    "fi = open(f'Metabolite Annotation/{file}.txt')\n",
    "fo = open(f'Metabolite Annotation/{file}_out.txt', 'w')\n",
    "\n",
    "tests_num = int(fi.readline())\n",
    "for t in range(tests_num):\n",
    "    M, K, N = map(int, fi.readline().strip().split())\n",
    "    metabos = list(map(float, fi.readline().strip().split()))\n",
    "    metabos = np.array(metabos).reshape(M,1)\n",
    "    adducts = list(map(float, fi.readline().strip().split()))\n",
    "    adducts = np.array(adducts).reshape(1,K)\n",
    "    matrix = np.zeros((M, K)) + metabos + adducts\n",
    "    del metabos, adducts\n",
    "    for sam in map(float, fi.readline().strip().split()):\n",
    "        ind = np.unravel_index(np.argmin(np.absolute(matrix - sam)), (M, K))\n",
    "        fo.write(f'{ind[0] + 1} {ind[1] + 1}\\n')\n",
    "\n",
    "fi.close()\n",
    "fo.close()"
   ]
  },
  {
   "cell_type": "code",
   "execution_count": 10,
   "metadata": {},
   "outputs": [],
   "source": [
    "# BST for 4\n",
    "file = '1'\n",
    "fi = open(f'Metabolite Annotation/{file}.txt')\n",
    "fo = open(f'Metabolite Annotation/{file}_out_bst.txt', 'w')\n",
    "\n",
    "def ST(sample):\n",
    "    ml, mr = 0, len(metabos) - 1\n",
    "    al, ar = 0, len(adducts) - 1\n",
    "    upper, lower = True, True\n",
    "    while (upper or lower) and (ml < mr-1) and (al < ar-1):\n",
    "        if metabos[mr-2][0] + adducts[ar][0] > sample:\n",
    "            mr -= 1\n",
    "        elif metabos[mr][0] + adducts[ar-2][0] > sample:\n",
    "            ar -= 1\n",
    "        else:\n",
    "            upper = False\n",
    "        if metabos[ml][0] + adducts[al+2][0] < sample:\n",
    "            al += 1\n",
    "        elif metabos[ml+2][0] + adducts[al][0] < sample:\n",
    "            ml += 1\n",
    "        else:\n",
    "            lower = False\n",
    "    deltas = []\n",
    "    for m in metabos[ml:mr+1]:\n",
    "        for a in adducts[al:ar+1]:\n",
    "            deltas.append([m[0] + a[0] - sample, (m[1], a[1])])\n",
    "    min_delta = min(deltas, key=lambda x: abs(x[0]))\n",
    "    return tuple(map(int, min_delta[1]))\n",
    "\n",
    "tests_num = int(fi.readline())\n",
    "for t in range(tests_num):\n",
    "    M, K, N = map(int, fi.readline().strip().split())\n",
    "    \n",
    "    metabos = np.array(fi.readline().strip().split(), dtype=float, copy=False)\n",
    "    metabos = np.vstack([metabos, range(M)]).transpose()\n",
    "    metabos = metabos[metabos[:,0].argsort()]\n",
    "    \n",
    "    adducts = np.array(fi.readline().strip().split(), dtype=float, copy=False)\n",
    "    adducts = np.vstack([adducts, range(K)]).transpose()\n",
    "    adducts = adducts[adducts[:,0].argsort()]\n",
    "    \n",
    "    samples = np.array(fi.readline().strip().split(), dtype=np.float, copy=False)\n",
    "    for sam in samples:\n",
    "        ind = ST(sam)\n",
    "        fo.write(f'{ind[0] + 1} {ind[1] + 1}\\n')\n",
    "\n",
    "fi.close()\n",
    "fo.close()"
   ]
  },
  {
   "cell_type": "code",
   "execution_count": 4,
   "metadata": {},
   "outputs": [
    {
     "data": {
      "text/plain": [
       "(997478, 2)"
      ]
     },
     "execution_count": 4,
     "metadata": {},
     "output_type": "execute_result"
    }
   ],
   "source": [
    "metabos.shape"
   ]
  },
  {
   "cell_type": "code",
   "execution_count": 11,
   "metadata": {},
   "outputs": [],
   "source": [
    "del ml, mr, al, ar"
   ]
  },
  {
   "cell_type": "markdown",
   "metadata": {},
   "source": [
    "### Diagnosis"
   ]
  },
  {
   "cell_type": "code",
   "execution_count": 10,
   "metadata": {},
   "outputs": [],
   "source": [
    "file = '0'\n",
    "fi = open(f'Diagnosis/test{file}')\n",
    "fo = open(f'Diagnosis/test{file}_out', 'w')\n",
    "\n",
    "vertices = int(fi.readline())\n",
    "parents = list(map(int, fi.readline().strip().split()))\n",
    "values = list(map(int, fi.readline().strip().split()))\n",
    "diseases_num = int(fi.readline())\n",
    "diseases = []\n",
    "for dn in range(diseases_num):\n",
    "    diseases.append(list(map(int, fi.readline().strip().split())))\n",
    "    \n",
    "patients_num = int(fi.readline())\n",
    "patients = []\n",
    "for dn in range(patients_num):\n",
    "    patients.append(list(map(int, fi.readline().strip().split())))\n",
    "    \n",
    "fi.close()\n",
    "fo.close()"
   ]
  },
  {
   "cell_type": "code",
   "execution_count": 11,
   "metadata": {},
   "outputs": [
    {
     "data": {
      "text/plain": [
       "[[3, 5, 9, 8], [1, 6], [2, 7, 10], [1, 10]]"
      ]
     },
     "execution_count": 11,
     "metadata": {},
     "output_type": "execute_result"
    }
   ],
   "source": [
    "patients"
   ]
  },
  {
   "cell_type": "code",
   "execution_count": null,
   "metadata": {},
   "outputs": [],
   "source": []
  },
  {
   "cell_type": "code",
   "execution_count": 1,
   "metadata": {},
   "outputs": [
    {
     "ename": "FileNotFoundError",
     "evalue": "[Errno 2] No such file or directory: 'Epigenomic Marks/4_out.txt'",
     "output_type": "error",
     "traceback": [
      "\u001b[0;31m---------------------------------------------------------------------------\u001b[0m",
      "\u001b[0;31mFileNotFoundError\u001b[0m                         Traceback (most recent call last)",
      "\u001b[0;32m<ipython-input-1-d93b570f7120>\u001b[0m in \u001b[0;36m<module>\u001b[0;34m\u001b[0m\n\u001b[0;32m----> 1\u001b[0;31m \u001b[0mfi\u001b[0m \u001b[0;34m=\u001b[0m \u001b[0mopen\u001b[0m\u001b[0;34m(\u001b[0m\u001b[0;34mf'Epigenomic Marks/4_out.txt'\u001b[0m\u001b[0;34m)\u001b[0m\u001b[0;34m\u001b[0m\u001b[0;34m\u001b[0m\u001b[0m\n\u001b[0m\u001b[1;32m      2\u001b[0m \u001b[0mfo\u001b[0m \u001b[0;34m=\u001b[0m \u001b[0mopen\u001b[0m\u001b[0;34m(\u001b[0m\u001b[0;34mf'Epigenomic Marks/4_out2.txt'\u001b[0m\u001b[0;34m,\u001b[0m \u001b[0;34m'w'\u001b[0m\u001b[0;34m)\u001b[0m\u001b[0;34m\u001b[0m\u001b[0;34m\u001b[0m\u001b[0m\n\u001b[1;32m      3\u001b[0m \u001b[0;32mfor\u001b[0m \u001b[0mi\u001b[0m\u001b[0;34m,\u001b[0m \u001b[0mline\u001b[0m \u001b[0;32min\u001b[0m \u001b[0menumerate\u001b[0m\u001b[0;34m(\u001b[0m\u001b[0mfi\u001b[0m\u001b[0;34m)\u001b[0m\u001b[0;34m:\u001b[0m\u001b[0;34m\u001b[0m\u001b[0;34m\u001b[0m\u001b[0m\n\u001b[1;32m      4\u001b[0m     \u001b[0mfo\u001b[0m\u001b[0;34m.\u001b[0m\u001b[0mwrite\u001b[0m\u001b[0;34m(\u001b[0m\u001b[0mline\u001b[0m\u001b[0;34m)\u001b[0m\u001b[0;34m\u001b[0m\u001b[0;34m\u001b[0m\u001b[0m\n\u001b[1;32m      5\u001b[0m \u001b[0;32mfor\u001b[0m \u001b[0mj\u001b[0m \u001b[0;32min\u001b[0m \u001b[0mrange\u001b[0m\u001b[0;34m(\u001b[0m\u001b[0mi\u001b[0m\u001b[0;34m+\u001b[0m\u001b[0;36m1\u001b[0m\u001b[0;34m,\u001b[0m \u001b[0;36m992\u001b[0m\u001b[0;34m+\u001b[0m\u001b[0;36m996\u001b[0m\u001b[0;34m)\u001b[0m\u001b[0;34m:\u001b[0m\u001b[0;34m\u001b[0m\u001b[0;34m\u001b[0m\u001b[0m\n",
      "\u001b[0;31mFileNotFoundError\u001b[0m: [Errno 2] No such file or directory: 'Epigenomic Marks/4_out.txt'"
     ]
    }
   ],
   "source": [
    "fi = open(f'Epigenomic Marks/4_out.txt')\n",
    "fo = open(f'Epigenomic Marks/4_out2.txt', 'w')\n",
    "for i, line in enumerate(fi):\n",
    "    fo.write(line)\n",
    "for j in range(i+1, 992+996):\n",
    "    fo.write('1 1 \\n')\n",
    "fi.close()\n",
    "fo.close()"
   ]
  },
  {
   "cell_type": "code",
   "execution_count": null,
   "metadata": {},
   "outputs": [],
   "source": []
  }
 ],
 "metadata": {
  "kernelspec": {
   "display_name": "Python 3",
   "language": "python",
   "name": "python3"
  },
  "language_info": {
   "codemirror_mode": {
    "name": "ipython",
    "version": 3
   },
   "file_extension": ".py",
   "mimetype": "text/x-python",
   "name": "python",
   "nbconvert_exporter": "python",
   "pygments_lexer": "ipython3",
   "version": "3.8.5"
  }
 },
 "nbformat": 4,
 "nbformat_minor": 4
}
