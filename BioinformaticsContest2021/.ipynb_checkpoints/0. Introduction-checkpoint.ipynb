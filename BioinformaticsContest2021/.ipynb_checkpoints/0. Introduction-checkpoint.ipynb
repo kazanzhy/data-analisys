{
 "cells": [
  {
   "cell_type": "markdown",
   "metadata": {},
   "source": [
    "### Bioinformatics Contest 2021\n",
    "https://stepik.org/course/91751/syllabus"
   ]
  },
  {
   "cell_type": "code",
   "execution_count": 1,
   "metadata": {},
   "outputs": [],
   "source": [
    "import pandas as pd"
   ]
  },
  {
   "cell_type": "markdown",
   "metadata": {},
   "source": [
    "### Introduction"
   ]
  },
  {
   "cell_type": "code",
   "execution_count": 4,
   "metadata": {},
   "outputs": [],
   "source": [
    "link_template = 'https://stepik.org/media/attachments/lesson/60794/{0}.zip'"
   ]
  },
  {
   "cell_type": "code",
   "execution_count": 9,
   "metadata": {
    "collapsed": true,
    "jupyter": {
     "outputs_hidden": true
    }
   },
   "outputs": [
    {
     "name": "stdout",
     "output_type": "stream",
     "text": [
      "0    [1, 5]\n",
      "1    [9, 9]\n",
      "2    [8, 5]\n",
      "3    [5, 4]\n",
      "4    [0, 7]\n",
      "Name: 0, dtype: object\n"
     ]
    },
    {
     "data": {
      "text/plain": [
       "0     6\n",
       "1    18\n",
       "2    13\n",
       "3     9\n",
       "4     7\n",
       "5     8\n",
       "6    10\n",
       "7     8\n",
       "8    12\n",
       "9     9\n",
       "Name: 0, dtype: int64"
      ]
     },
     "execution_count": 9,
     "metadata": {},
     "output_type": "execute_result"
    }
   ],
   "source": [
    "from functools import partial, reduce\n",
    "from operator import add\n",
    "\n",
    "name = 'test-A'\n",
    "df = pd.read_csv(link_template.format(name), header=None, compression='zip', skiprows=1)\n",
    "\n",
    "toInt = partial(map, int)\n",
    "redInt = partial(reduce, add)\n",
    "\n",
    "df = df[0].str.split()\n",
    "print(df.head())\n",
    "\n",
    "out = df.apply(toInt).apply(redInt)\n",
    "out.to_csv(f'Introduction/{name}_out.csv', index=False, header=False)\n",
    "out"
   ]
  },
  {
   "cell_type": "code",
   "execution_count": 6,
   "metadata": {
    "collapsed": true,
    "jupyter": {
     "outputs_hidden": true
    }
   },
   "outputs": [
    {
     "data": {
      "text/plain": [
       "0    3 10 49 153 176 206 213 262 278 285 301 308 37...\n",
       "1    15 34 49 56 117 193 218 254 261 268 313 371 40...\n",
       "2    38 47 65 104 121 227 244 278 285 297 304 319 3...\n",
       "3    30 81 96 106 129 146 192 220 329 424 490 643 7...\n",
       "4    29 58 78 103 130 149 259 266 405 420 450 554 5...\n",
       "5    3 88 95 110 205 255 333 351 488 512 519 578 60...\n",
       "6    19 155 202 217 224 236 284 340 391 398 419 426...\n",
       "7    155 162 222 304 477 484 527 555 570 585 592 61...\n",
       "8    2 34 71 136 183 199 242 280 295 304 341 396 46...\n",
       "9    20 38 45 74 81 96 129 185 192 264 271 287 294 ...\n",
       "dtype: object"
      ]
     },
     "execution_count": 6,
     "metadata": {},
     "output_type": "execute_result"
    }
   ],
   "source": [
    "from re import finditer\n",
    "from operator import methodcaller\n",
    "from functools import partial\n",
    "\n",
    "name = 'test-B'\n",
    "df = pd.read_csv(link_template.format(name), header=None, compression='zip', skiprows=1)\n",
    "\n",
    "seqs = df.loc[0::2, 0].reset_index(drop=True)\n",
    "pats = df.loc[1::2, 0].reset_index(drop=True)\n",
    "\n",
    "df = pd.concat([seqs, pats], axis=1, ignore_index=True)\n",
    "\n",
    "out = df.apply(lambda x: [str(i.start() + 1) for i in finditer(f'(?=({x[1]}))', x[0])], axis=1).str.join(' ')\n",
    "\n",
    "out.to_csv(f'Introduction/{name}_out.csv', index=False, header=False)\n",
    "out"
   ]
  },
  {
   "cell_type": "code",
   "execution_count": null,
   "metadata": {},
   "outputs": [],
   "source": []
  }
 ],
 "metadata": {
  "kernelspec": {
   "display_name": "Python 3",
   "language": "python",
   "name": "python3"
  },
  "language_info": {
   "codemirror_mode": {
    "name": "ipython",
    "version": 3
   },
   "file_extension": ".py",
   "mimetype": "text/x-python",
   "name": "python",
   "nbconvert_exporter": "python",
   "pygments_lexer": "ipython3",
   "version": "3.8.5"
  }
 },
 "nbformat": 4,
 "nbformat_minor": 4
}
