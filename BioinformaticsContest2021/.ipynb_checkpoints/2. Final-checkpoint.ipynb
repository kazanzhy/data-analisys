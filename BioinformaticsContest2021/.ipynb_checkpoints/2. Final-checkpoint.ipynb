{
 "cells": [
  {
   "cell_type": "code",
   "execution_count": 2,
   "metadata": {},
   "outputs": [],
   "source": [
    "import sys\n",
    "import numpy as np\n",
    "\n",
    "#sys.setrecursionlimit(100000)"
   ]
  },
  {
   "cell_type": "markdown",
   "metadata": {},
   "source": [
    "### Genotype Imputation"
   ]
  },
  {
   "cell_type": "code",
   "execution_count": 71,
   "metadata": {},
   "outputs": [],
   "source": [
    "#V1\n",
    "freqs = []\n",
    "for pos in zip(*genotypes):\n",
    "    freqs.append(mode(pos))\n",
    "    \n",
    "for i, par in enumerate(partial):\n",
    "    new_par = []\n",
    "    for p, f in zip(par, freqs):\n",
    "        if p == '?':\n",
    "            new_par.append(f)\n",
    "        else:\n",
    "            new_par.append(p)\n",
    "    new_par = ''.join(new_par)\n",
    "    partial[i] = new_par\n",
    "    \n",
    "freqs = []\n",
    "for pos in zip(*genotypes):\n",
    "    freqs.append(mode(pos))\n",
    "    \n",
    "next_to = {'0': [], '1': [], '2': []}\n",
    "for gen in genotypes:\n",
    "    for i in range(glen-1):\n",
    "        next_to[gen[i]].append(gen[i+1])   \n",
    "prev_to = {'0': [], '1': [], '2': []}\n",
    "for gen in genotypes:\n",
    "    for i in range(1, glen):\n",
    "        prev_to[gen[i]].append(gen[i-1])\n",
    "glen = len(genotypes[0])"
   ]
  },
  {
   "cell_type": "code",
   "execution_count": 165,
   "metadata": {},
   "outputs": [],
   "source": [
    "from statistics import mode, mean\n",
    "from random import choice \n",
    "import numpy as np\n",
    "\n",
    "def geno(x, y):\n",
    "    res = map(lambda t: str(int(t[0]) + int(t[1])), zip(x, y))\n",
    "    return ''.join(res)\n",
    "\n",
    "file = '2'\n",
    "fi = open(f'Genotype Imputation/test{file}.txt')\n",
    "\n",
    "genotypes = []\n",
    "partials = []\n",
    "\n",
    "n, m = map(int, fi.readline().strip().split())\n",
    "next(fi, None)\n",
    "\n",
    "for _ in range(n):\n",
    "    genotypes.append(geno(fi.readline().strip(), fi.readline().strip()))\n",
    "    next(fi, None)\n",
    "for _ in range(m):\n",
    "    partials.append(fi.readline().strip())\n",
    "    next(fi, None)\n",
    "fi.close()"
   ]
  },
  {
   "cell_type": "code",
   "execution_count": 166,
   "metadata": {},
   "outputs": [
    {
     "ename": "KeyboardInterrupt",
     "evalue": "",
     "output_type": "error",
     "traceback": [
      "\u001b[0;31m---------------------------------------------------------------------------\u001b[0m",
      "\u001b[0;31mKeyboardInterrupt\u001b[0m                         Traceback (most recent call last)",
      "\u001b[0;32m<ipython-input-166-7a2ea3cd3d13>\u001b[0m in \u001b[0;36m<module>\u001b[0;34m\u001b[0m\n\u001b[1;32m     15\u001b[0m     \u001b[0mnearests\u001b[0m \u001b[0;34m=\u001b[0m \u001b[0;34m[\u001b[0m\u001b[0;34m]\u001b[0m\u001b[0;34m\u001b[0m\u001b[0;34m\u001b[0m\u001b[0m\n\u001b[1;32m     16\u001b[0m     \u001b[0;32mfor\u001b[0m \u001b[0mgenotype\u001b[0m \u001b[0;32min\u001b[0m \u001b[0mgenotypes\u001b[0m\u001b[0;34m:\u001b[0m\u001b[0;34m\u001b[0m\u001b[0;34m\u001b[0m\u001b[0m\n\u001b[0;32m---> 17\u001b[0;31m         \u001b[0mnearests\u001b[0m\u001b[0;34m.\u001b[0m\u001b[0mappend\u001b[0m\u001b[0;34m(\u001b[0m\u001b[0;34m[\u001b[0m\u001b[0mgenotype\u001b[0m\u001b[0;34m,\u001b[0m \u001b[0mlevenshtein\u001b[0m\u001b[0;34m(\u001b[0m\u001b[0mpartial\u001b[0m\u001b[0;34m,\u001b[0m \u001b[0mgenotype\u001b[0m\u001b[0;34m)\u001b[0m\u001b[0;34m]\u001b[0m\u001b[0;34m)\u001b[0m\u001b[0;34m\u001b[0m\u001b[0;34m\u001b[0m\u001b[0m\n\u001b[0m\u001b[1;32m     18\u001b[0m     \u001b[0mnearest\u001b[0m\u001b[0;34m,\u001b[0m \u001b[0mdist\u001b[0m \u001b[0;34m=\u001b[0m \u001b[0mmin\u001b[0m\u001b[0;34m(\u001b[0m\u001b[0mnearests\u001b[0m\u001b[0;34m,\u001b[0m \u001b[0mkey\u001b[0m\u001b[0;34m=\u001b[0m\u001b[0;32mlambda\u001b[0m \u001b[0mx\u001b[0m\u001b[0;34m:\u001b[0m \u001b[0mx\u001b[0m\u001b[0;34m[\u001b[0m\u001b[0;36m1\u001b[0m\u001b[0;34m]\u001b[0m\u001b[0;34m)\u001b[0m\u001b[0;34m\u001b[0m\u001b[0;34m\u001b[0m\u001b[0m\n\u001b[1;32m     19\u001b[0m \u001b[0;34m\u001b[0m\u001b[0m\n",
      "\u001b[0;32m<ipython-input-166-7a2ea3cd3d13>\u001b[0m in \u001b[0;36mlevenshtein\u001b[0;34m(fst, snd)\u001b[0m\n\u001b[1;32m      9\u001b[0m             \u001b[0mdele\u001b[0m \u001b[0;34m=\u001b[0m \u001b[0mD\u001b[0m\u001b[0;34m[\u001b[0m\u001b[0mi\u001b[0m\u001b[0;34m-\u001b[0m\u001b[0;36m1\u001b[0m\u001b[0;34m,\u001b[0m \u001b[0mj\u001b[0m\u001b[0;34m]\u001b[0m \u001b[0;34m+\u001b[0m \u001b[0;36m1\u001b[0m\u001b[0;34m\u001b[0m\u001b[0;34m\u001b[0m\u001b[0m\n\u001b[1;32m     10\u001b[0m             \u001b[0msubs\u001b[0m \u001b[0;34m=\u001b[0m \u001b[0mD\u001b[0m\u001b[0;34m[\u001b[0m\u001b[0mi\u001b[0m\u001b[0;34m-\u001b[0m\u001b[0;36m1\u001b[0m\u001b[0;34m,\u001b[0m \u001b[0mj\u001b[0m\u001b[0;34m-\u001b[0m\u001b[0;36m1\u001b[0m\u001b[0;34m]\u001b[0m \u001b[0;34m+\u001b[0m \u001b[0mint\u001b[0m\u001b[0;34m(\u001b[0m\u001b[0mf\u001b[0m \u001b[0;34m!=\u001b[0m \u001b[0ms\u001b[0m\u001b[0;34m)\u001b[0m\u001b[0;34m\u001b[0m\u001b[0;34m\u001b[0m\u001b[0m\n\u001b[0;32m---> 11\u001b[0;31m             \u001b[0mD\u001b[0m\u001b[0;34m[\u001b[0m\u001b[0mi\u001b[0m\u001b[0;34m,\u001b[0m \u001b[0mj\u001b[0m\u001b[0;34m]\u001b[0m \u001b[0;34m=\u001b[0m \u001b[0mmin\u001b[0m\u001b[0;34m(\u001b[0m\u001b[0;34m[\u001b[0m\u001b[0minse\u001b[0m\u001b[0;34m,\u001b[0m \u001b[0mdele\u001b[0m\u001b[0;34m,\u001b[0m \u001b[0msubs\u001b[0m\u001b[0;34m]\u001b[0m\u001b[0;34m)\u001b[0m\u001b[0;34m\u001b[0m\u001b[0;34m\u001b[0m\u001b[0m\n\u001b[0m\u001b[1;32m     12\u001b[0m     \u001b[0;32mreturn\u001b[0m \u001b[0mD\u001b[0m\u001b[0;34m[\u001b[0m\u001b[0;34m-\u001b[0m\u001b[0;36m1\u001b[0m\u001b[0;34m,\u001b[0m \u001b[0;34m-\u001b[0m\u001b[0;36m1\u001b[0m\u001b[0;34m]\u001b[0m\u001b[0;34m\u001b[0m\u001b[0;34m\u001b[0m\u001b[0m\n\u001b[1;32m     13\u001b[0m \u001b[0;34m\u001b[0m\u001b[0m\n",
      "\u001b[0;31mKeyboardInterrupt\u001b[0m: "
     ]
    }
   ],
   "source": [
    "def levenshtein(fst, snd):\n",
    "    x, y = len(fst) + 1, len(snd) + 1\n",
    "    D = np.zeros((x, y), int)\n",
    "    D[:, 0] = range(x)\n",
    "    D[0, :] = range(y)\n",
    "    for i, f in enumerate(fst, 1):\n",
    "        for j, s in enumerate(snd, 1):\n",
    "            inse = D[i, j-1] + 1\n",
    "            dele = D[i-1, j] + 1\n",
    "            subs = D[i-1, j-1] + int(f != s)\n",
    "            D[i, j] = min([inse, dele, subs])\n",
    "    return D[-1, -1]\n",
    "\n",
    "for j, partial in enumerate(partials):\n",
    "    nearests = []\n",
    "    for genotype in genotypes:\n",
    "        nearests.append([genotype, levenshtein(partial, genotype)])\n",
    "    nearest, dist = min(nearests, key=lambda x: x[1])\n",
    "    \n",
    "    new = []\n",
    "    for p, n in zip(partial, nearest):\n",
    "        if p == '?':\n",
    "            new.append(n)\n",
    "        else:\n",
    "            new.append(p)\n",
    "    partials[j] = ''.join(new)"
   ]
  },
  {
   "cell_type": "code",
   "execution_count": null,
   "metadata": {},
   "outputs": [],
   "source": [
    "fo = open(f'Genotype Imputation/test{file}_out.txt', 'w')\n",
    "for i in range(m):\n",
    "    fo.write(f'{partials[i]}\\n\\n')\n",
    "fo.close()"
   ]
  },
  {
   "cell_type": "markdown",
   "metadata": {},
   "source": [
    "### Causative Mutation"
   ]
  },
  {
   "cell_type": "markdown",
   "metadata": {},
   "source": [
    "### Superspreaders"
   ]
  },
  {
   "cell_type": "markdown",
   "metadata": {},
   "source": [
    "### Minor Haplotype\n"
   ]
  },
  {
   "cell_type": "code",
   "execution_count": null,
   "metadata": {},
   "outputs": [],
   "source": [
    "glen = len(genotypes[0])"
   ]
  },
  {
   "cell_type": "markdown",
   "metadata": {},
   "source": [
    "### Isoform Matching"
   ]
  },
  {
   "cell_type": "code",
   "execution_count": null,
   "metadata": {},
   "outputs": [],
   "source": []
  },
  {
   "cell_type": "code",
   "execution_count": null,
   "metadata": {},
   "outputs": [],
   "source": []
  },
  {
   "cell_type": "code",
   "execution_count": null,
   "metadata": {},
   "outputs": [],
   "source": []
  },
  {
   "cell_type": "code",
   "execution_count": null,
   "metadata": {},
   "outputs": [],
   "source": []
  }
 ],
 "metadata": {
  "kernelspec": {
   "display_name": "Python 3",
   "language": "python",
   "name": "python3"
  },
  "language_info": {
   "codemirror_mode": {
    "name": "ipython",
    "version": 3
   },
   "file_extension": ".py",
   "mimetype": "text/x-python",
   "name": "python",
   "nbconvert_exporter": "python",
   "pygments_lexer": "ipython3",
   "version": "3.8.5"
  }
 },
 "nbformat": 4,
 "nbformat_minor": 4
}
