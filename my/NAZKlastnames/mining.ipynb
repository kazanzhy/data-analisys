{
 "cells": [
  {
   "cell_type": "code",
   "execution_count": 36,
   "metadata": {},
   "outputs": [],
   "source": [
    "import json\n",
    "import csv\n",
    "import bz2"
   ]
  },
  {
   "cell_type": "code",
   "execution_count": 34,
   "metadata": {},
   "outputs": [
    {
     "data": {
      "text/plain": [
       "52"
      ]
     },
     "execution_count": 34,
     "metadata": {},
     "output_type": "execute_result"
    }
   ],
   "source": [
    "# Connect to compressed raw JSON data\n",
    "raw_data = bz2.open('full_export.json.bz2')\n",
    "csv_export = open('infocards.csv', 'w')\n",
    "\n",
    "csvwriter = csv.writer(csv_export)\n",
    "keys = ['id', 'first_name', 'patronymic', 'last_name', 'office']\n",
    "csvwriter.writerow(keys)\n",
    "\n",
    "counter = 0\n",
    "for line in raw_data:\n",
    "    counter += 1\n",
    "    if counter % 100000 == 0:\n",
    "        print(counter, 'processed')\n",
    "    line = json.loads(line)\n",
    "    if line['infocard']['declaration_year'] != 2018:\n",
    "        continue\n",
    "    infocard = []\n",
    "    for k in keys:\n",
    "        infocard.append(line['infocard'][k])\n",
    "    csvwriter.writerow(infocard)   \n",
    "raw_data.close()\n",
    "csv_export.close()   "
   ]
  }
 ],
 "metadata": {
  "kernelspec": {
   "display_name": "Python 3",
   "language": "python",
   "name": "python3"
  },
  "language_info": {
   "codemirror_mode": {
    "name": "ipython",
    "version": 3
   },
   "file_extension": ".py",
   "mimetype": "text/x-python",
   "name": "python",
   "nbconvert_exporter": "python",
   "pygments_lexer": "ipython3",
   "version": "3.6.9"
  }
 },
 "nbformat": 4,
 "nbformat_minor": 2
}
