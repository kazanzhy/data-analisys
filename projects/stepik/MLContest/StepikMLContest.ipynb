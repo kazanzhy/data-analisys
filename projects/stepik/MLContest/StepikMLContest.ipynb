{
 "cells": [
  {
   "cell_type": "code",
   "execution_count": 62,
   "metadata": {},
   "outputs": [],
   "source": [
    "import pandas as pd\n",
    "import numpy as np\n",
    "%matplotlib inline\n",
    "import seaborn as sns\n",
    "import matplotlib.pyplot as plt"
   ]
  },
  {
   "cell_type": "code",
   "execution_count": 85,
   "metadata": {},
   "outputs": [],
   "source": [
    "from sklearn.ensemble import RandomForestClassifier\n",
    "from sklearn.tree import DecisionTreeClassifier\n",
    "from sklearn.model_selection import GridSearchCV, RandomizedSearchCV"
   ]
  },
  {
   "cell_type": "code",
   "execution_count": 64,
   "metadata": {},
   "outputs": [],
   "source": [
    "# Load data\n",
    "event_data_train = pd.read_csv('event_data_train.zip', compression='zip')\n",
    "submission_data_train = pd.read_csv('submissions_data_train.zip', compression='zip')\n",
    "event_data_test = pd.read_csv('events_data_test.csv')\n",
    "submission_data_test = pd.read_csv('submission_data_test.csv')"
   ]
  },
  {
   "cell_type": "code",
   "execution_count": 65,
   "metadata": {},
   "outputs": [],
   "source": [
    "#Converting timestamp to datetime, add day, add minimal timestamp\n",
    "def add_info(df):\n",
    "    df['date'] = pd.to_datetime(df.timestamp, unit='s')\n",
    "    df['day'] = df.date.dt.date\n",
    "    min_time = df.groupby('user_id', as_index=False).agg({'timestamp': 'min'}).rename(columns={'timestamp': 'min_timestamp'})\n",
    "    df = df.merge(min_time, on='user_id', how='outer')\n",
    "    return df\n",
    "\n",
    "event_data_train = add_info(event_data_train)\n",
    "submission_data_train = add_info(submission_data_train)\n",
    "event_data_test = add_info(event_data_test)\n",
    "submission_data_test = add_info(submission_data_test)"
   ]
  },
  {
   "cell_type": "code",
   "execution_count": 66,
   "metadata": {},
   "outputs": [],
   "source": [
    "# Figure out what users earn 40 points in train data\n",
    "train_user_score = event_data_train.pivot_table(index='user_id', columns='action', values='step_id', aggfunc='count', fill_value=0)\n",
    "train_user_score['is_gone'] = train_user_score.passed > 40\n",
    "train_user_score = train_user_score['is_gone'].astype(int).reset_index()"
   ]
  },
  {
   "cell_type": "code",
   "execution_count": 67,
   "metadata": {},
   "outputs": [],
   "source": [
    "# Select first 2 days from train data\n",
    "def select_two_days(df):\n",
    "    threshold = 2 * 24 * 60 * 60\n",
    "    df = df.query('timestamp - min_timestamp <= @threshold')\n",
    "    return df\n",
    "event_data_train = select_two_days(event_data_train)\n",
    "submission_data_train = select_two_days(submission_data_train)"
   ]
  },
  {
   "cell_type": "code",
   "execution_count": 68,
   "metadata": {},
   "outputs": [],
   "source": [
    "def calculate_points(event, submission):\n",
    "    df = pd.DataFrame({'user_id': event.user_id.unique()})\n",
    "    user_event = event.pivot_table(index='user_id', columns='action', values='step_id', aggfunc='count', fill_value=0)\n",
    "    df = df.merge(user_event.reset_index(), on='user_id', how='outer')\n",
    "    user_submission = submission.pivot_table(index='user_id', columns='submission_status', values='step_id', aggfunc='count', fill_value=0)\n",
    "    df = df.merge(user_submission.reset_index(), on='user_id', how='outer')\n",
    "    days = event.groupby('user_id').day.nunique().to_frame().rename(columns={'day': 'days'})\n",
    "    df = df.merge(days.reset_index(), on='user_id', how='outer')\n",
    "    step_tried = submission.groupby('user_id').step_id.nunique().to_frame().rename(columns={'step_id': 'step_tried'})\n",
    "    df = df.merge(step_tried.reset_index(), on='user_id', how='outer')\n",
    "    df = df.fillna(0)\n",
    "    return df\n",
    "    \n",
    "train_data = calculate_points(event_data_train, submission_data_train)\n",
    "test_data = calculate_points(event_data_test, submission_data_test)"
   ]
  },
  {
   "cell_type": "code",
   "execution_count": 89,
   "metadata": {},
   "outputs": [],
   "source": [
    "rf = RandomForestClassifier()\n",
    "params = {'n_estimators': range(10, 31, 5), \n",
    "          'max_depth': range(1, 9, 2), \n",
    "          'min_samples_leaf': range(1, 7), \n",
    "          'min_samples_split': range(2, 7)}\n",
    "search = GridSearchCV(rf, params, cv=3)\n",
    "\n",
    "search.fit(train_data, train_user_score.is_gone)\n",
    "\n",
    "predicted = search.predict_proba(test_data)\n",
    "submission = pd.DataFrame({'user_id': test_data.user_id, 'is_gone': predicted[:,0]})\n",
    "submission.to_csv('submission.csv', index=False)"
   ]
  },
  {
   "cell_type": "code",
   "execution_count": 87,
   "metadata": {},
   "outputs": [],
   "source": [
    "dt = DecisionTreeClassifier()\n",
    "params = {'max_depth': range(1, 9, 2), \n",
    "          'min_samples_leaf': range(1, 7), \n",
    "          'min_samples_split': range(2, 7)}\n",
    "search = GridSearchCV(dt, params, cv=3)\n",
    "\n",
    "search.fit(train_data, train_user_score.is_gone)\n",
    "\n",
    "predicted = search.predict_proba(test_data)\n",
    "submission = pd.DataFrame({'user_id': test_data.user_id, 'is_gone': predicted[:,0]})\n",
    "submission.to_csv('submission.csv', index=False)"
   ]
  },
  {
   "cell_type": "code",
   "execution_count": null,
   "metadata": {},
   "outputs": [],
   "source": []
  },
  {
   "cell_type": "code",
   "execution_count": null,
   "metadata": {},
   "outputs": [],
   "source": []
  }
 ],
 "metadata": {
  "kernelspec": {
   "display_name": "Python 3",
   "language": "python",
   "name": "python3"
  },
  "language_info": {
   "codemirror_mode": {
    "name": "ipython",
    "version": 3
   },
   "file_extension": ".py",
   "mimetype": "text/x-python",
   "name": "python",
   "nbconvert_exporter": "python",
   "pygments_lexer": "ipython3",
   "version": "3.6.8"
  }
 },
 "nbformat": 4,
 "nbformat_minor": 2
}
