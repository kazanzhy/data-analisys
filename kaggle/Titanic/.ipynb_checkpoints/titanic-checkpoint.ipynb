{
 "cells": [
  {
   "cell_type": "code",
   "execution_count": 4,
   "metadata": {},
   "outputs": [],
   "source": [
    "# Basic libraries\n",
    "import numpy as np\n",
    "import pandas as pd"
   ]
  },
  {
   "cell_type": "code",
   "execution_count": null,
   "metadata": {},
   "outputs": [],
   "source": [
    "# Visualization\n",
    "import matplotlib.pyplot as plt\n",
    "import seaborn as sns\n",
    "%matplotlib inline"
   ]
  },
  {
   "cell_type": "code",
   "execution_count": 8,
   "metadata": {},
   "outputs": [],
   "source": [
    "# Preprocessing\n",
    "from sklearn.preprocessing import LabelEncoder\n",
    "# ML functions\n",
    "from sklearn.linear_model import LinearRegression\n",
    "from sklearn.tree import DecisionTreeClassifier\n",
    "from sklearn.ensemble import RandomForestClassifier\n",
    "# Metrics\n",
    "from sklearn.model_selection import train_test_split, cross_val_score, GridSearchCV\n",
    "from sklearn.metrics import precision_score, recall_score"
   ]
  },
  {
   "cell_type": "code",
   "execution_count": 90,
   "metadata": {},
   "outputs": [],
   "source": [
    "# Upload the data\n",
    "gender_submission = pd.read_csv('gender_submission.csv')\n",
    "train = pd.read_csv('train.csv')\n",
    "submission = pd.read_csv('test.csv')\n",
    "# Drop not informative features\n",
    "X = train.drop(['PassengerId', 'Survived', 'Name', 'Ticket', 'Cabin'], axis=1)\n",
    "y = train.Survived\n",
    "test = submission.drop(['PassengerId', 'Name', 'Ticket', 'Cabin'], axis=1)"
   ]
  },
  {
   "cell_type": "code",
   "execution_count": 91,
   "metadata": {},
   "outputs": [],
   "source": [
    "# Filling NA\n",
    "# using LinearRegression\n",
    "'''\n",
    "def fill_na_using_linear_regression(df, column):\n",
    "    X_train = df[df[column].notna()].drop(column, axis=1)\n",
    "    y_train = df[df[column].notna()][column]\n",
    "    X_test = df[df[column].isna()].drop(column, axis=1)\n",
    "    lr = LinearRegression()\n",
    "    lr.fit(X_train, y_train)\n",
    "    #df[df[column].isna()][column] = pd.Series(lr.predict(X_test))\n",
    "    predicted = pd.Series(lr.predict(X_test))\n",
    "    df[column].fillna(predicted, inplace=True)\n",
    "    #print()\n",
    "    return df\n",
    "X = fill_na_using_linear_regression(X, 'Age')\n",
    "'''\n",
    "\n",
    "# Using median and mode\n",
    "X.fillna({'Age': X.Age.median(), 'Embarked': X.Embarked.mode()[0]}, inplace=True)\n",
    "test.fillna({'Age': X.Age.median(), 'Embarked': X.Embarked.mode()[0], 'Fare': X.Fare.median()}, inplace=True)"
   ]
  },
  {
   "cell_type": "code",
   "execution_count": 92,
   "metadata": {},
   "outputs": [],
   "source": [
    "# Convert string categorial var into numeric\n",
    "#X = pd.get_dummies(X)\n",
    "le = LabelEncoder()\n",
    "le.fit(X.Sex)\n",
    "X.Sex = le.transform(X.Sex)\n",
    "test.Sex = le.transform(test.Sex)\n",
    "le.fit(X.Embarked)\n",
    "X.Embarked = le.transform(X.Embarked)\n",
    "test.Embarked = le.transform(test.Embarked)"
   ]
  },
  {
   "cell_type": "code",
   "execution_count": 82,
   "metadata": {},
   "outputs": [],
   "source": [
    "# Split dataset into test and train\n",
    "X_train, X_test, y_train, y_test = train_test_split(X, y, test_size=0.3, random_state=42)"
   ]
  },
  {
   "cell_type": "code",
   "execution_count": 83,
   "metadata": {},
   "outputs": [
    {
     "data": {
      "text/plain": [
       "{'criterion': 'entropy',\n",
       " 'max_depth': 9,\n",
       " 'min_samples_leaf': 5,\n",
       " 'min_samples_split': 5}"
      ]
     },
     "execution_count": 83,
     "metadata": {},
     "output_type": "execute_result"
    }
   ],
   "source": [
    "# Decision Tree Classifier\n",
    "dtc = DecisionTreeClassifier()\n",
    "params = {'criterion': ('gini', 'entropy'), 'max_depth': range(1, 20), 'min_samples_split': range(5, 21, 5), 'min_samples_leaf': range(1, 13, 2)}\n",
    "search = GridSearchCV(dtc, params, cv=5)\n",
    "search.fit(X, y)\n",
    "search.best_params_"
   ]
  },
  {
   "cell_type": "code",
   "execution_count": 93,
   "metadata": {},
   "outputs": [],
   "source": [
    "survived = search.predict(test)\n",
    "survived = pd.DataFrame({'PassengerId': submission['PassengerId'], 'Survived': survived})\n",
    "survived.to_csv('submission.csv', index=False)"
   ]
  },
  {
   "cell_type": "code",
   "execution_count": null,
   "metadata": {},
   "outputs": [],
   "source": []
  }
 ],
 "metadata": {
  "kernelspec": {
   "display_name": "Python 3",
   "language": "python",
   "name": "python3"
  },
  "language_info": {
   "codemirror_mode": {
    "name": "ipython",
    "version": 3
   },
   "file_extension": ".py",
   "mimetype": "text/x-python",
   "name": "python",
   "nbconvert_exporter": "python",
   "pygments_lexer": "ipython3",
   "version": "3.6.8"
  }
 },
 "nbformat": 4,
 "nbformat_minor": 2
}
