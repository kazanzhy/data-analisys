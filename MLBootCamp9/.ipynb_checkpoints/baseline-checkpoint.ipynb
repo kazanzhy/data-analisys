{
 "cells": [
  {
   "cell_type": "code",
   "execution_count": 1,
   "metadata": {},
   "outputs": [],
   "source": [
    "%matplotlib inline\n",
    "import matplotlib.pyplot as plt\n",
    "from sklearn.model_selection import train_test_split\n",
    "import numpy as np\n",
    "import pandas as pd"
   ]
  },
  {
   "cell_type": "code",
   "execution_count": 2,
   "metadata": {},
   "outputs": [],
   "source": [
    "def area(box):\n",
    "    return (box[2] - box[0]) * (box[3] - box[1])\n",
    "\n",
    "\n",
    "def intersection_over_union(boxes):\n",
    "    assert(len(boxes) == 8)\n",
    "    boxA = boxes[:4].values\n",
    "    boxB = boxes[4:].values\n",
    "    \n",
    "    boxAArea = area(boxA)\n",
    "    boxBArea = area(boxB)\n",
    "    \n",
    "    if (boxAArea == 0 or boxBArea == 0):\n",
    "        return 0\n",
    "        \n",
    "    xA = max(boxA[0], boxB[0])\n",
    "    yA = max(boxA[1], boxB[1])\n",
    "    xB = min(boxA[2], boxB[2])\n",
    "    yB = min(boxA[3], boxB[3])\n",
    "\n",
    "    interArea = max(0, xB - xA) * max(0, yB - yA)\n",
    "\n",
    "    iou = interArea / float(boxAArea + boxBArea - interArea)\n",
    "    return iou"
   ]
  },
  {
   "cell_type": "code",
   "execution_count": 3,
   "metadata": {},
   "outputs": [],
   "source": [
    "votes = pd.read_csv(\"train_data.csv\")\n",
    "answers = pd.read_csv(\"train_answers.csv\")\n",
    "test = pd.read_csv(\"test_data.csv\")"
   ]
  },
  {
   "cell_type": "code",
   "execution_count": 13,
   "metadata": {},
   "outputs": [],
   "source": [
    "quorum = votes.groupby(\"itemId\")[['Xmin','Ymin', 'Xmax', 'Ymax']].mean().reset_index()\n",
    "data = quorum.merge(answers, on=[\"itemId\"])\n",
    "data[\"iou\"] = data[['Xmin','Ymin', 'Xmax', 'Ymax', 'Xmin_true',\\\n",
    "      'Ymin_true', 'Xmax_true','Ymax_true']].apply(intersection_over_union, axis=1)"
   ]
  },
  {
   "cell_type": "code",
   "execution_count": 14,
   "metadata": {},
   "outputs": [
    {
     "data": {
      "text/html": [
       "<div>\n",
       "<style scoped>\n",
       "    .dataframe tbody tr th:only-of-type {\n",
       "        vertical-align: middle;\n",
       "    }\n",
       "\n",
       "    .dataframe tbody tr th {\n",
       "        vertical-align: top;\n",
       "    }\n",
       "\n",
       "    .dataframe thead th {\n",
       "        text-align: right;\n",
       "    }\n",
       "</style>\n",
       "<table border=\"1\" class=\"dataframe\">\n",
       "  <thead>\n",
       "    <tr style=\"text-align: right;\">\n",
       "      <th></th>\n",
       "      <th>userId</th>\n",
       "      <th>itemId</th>\n",
       "      <th>Xmin</th>\n",
       "      <th>Ymin</th>\n",
       "      <th>Xmax</th>\n",
       "      <th>Ymax</th>\n",
       "    </tr>\n",
       "  </thead>\n",
       "  <tbody>\n",
       "    <tr>\n",
       "      <th>0</th>\n",
       "      <td>1581</td>\n",
       "      <td>34804</td>\n",
       "      <td>86</td>\n",
       "      <td>640</td>\n",
       "      <td>242</td>\n",
       "      <td>743</td>\n",
       "    </tr>\n",
       "    <tr>\n",
       "      <th>1</th>\n",
       "      <td>1351</td>\n",
       "      <td>34804</td>\n",
       "      <td>85</td>\n",
       "      <td>655</td>\n",
       "      <td>273</td>\n",
       "      <td>766</td>\n",
       "    </tr>\n",
       "    <tr>\n",
       "      <th>2</th>\n",
       "      <td>161</td>\n",
       "      <td>34804</td>\n",
       "      <td>85</td>\n",
       "      <td>648</td>\n",
       "      <td>268</td>\n",
       "      <td>748</td>\n",
       "    </tr>\n",
       "    <tr>\n",
       "      <th>3</th>\n",
       "      <td>313</td>\n",
       "      <td>5704</td>\n",
       "      <td>32</td>\n",
       "      <td>618</td>\n",
       "      <td>647</td>\n",
       "      <td>1268</td>\n",
       "    </tr>\n",
       "    <tr>\n",
       "      <th>4</th>\n",
       "      <td>1097</td>\n",
       "      <td>5704</td>\n",
       "      <td>25</td>\n",
       "      <td>620</td>\n",
       "      <td>602</td>\n",
       "      <td>1242</td>\n",
       "    </tr>\n",
       "  </tbody>\n",
       "</table>\n",
       "</div>"
      ],
      "text/plain": [
       "   userId  itemId  Xmin  Ymin  Xmax  Ymax\n",
       "0    1581   34804    86   640   242   743\n",
       "1    1351   34804    85   655   273   766\n",
       "2     161   34804    85   648   268   748\n",
       "3     313    5704    32   618   647  1268\n",
       "4    1097    5704    25   620   602  1242"
      ]
     },
     "execution_count": 14,
     "metadata": {},
     "output_type": "execute_result"
    }
   ],
   "source": [
    "test.head()"
   ]
  },
  {
   "cell_type": "code",
   "execution_count": 8,
   "metadata": {},
   "outputs": [
    {
     "data": {
      "text/plain": [
       "0.5058725791429207"
      ]
     },
     "execution_count": 8,
     "metadata": {},
     "output_type": "execute_result"
    }
   ],
   "source": [
    "data[\"iou\"].mean()"
   ]
  },
  {
   "cell_type": "code",
   "execution_count": 12,
   "metadata": {},
   "outputs": [
    {
     "data": {
      "text/html": [
       "<div>\n",
       "<style scoped>\n",
       "    .dataframe tbody tr th:only-of-type {\n",
       "        vertical-align: middle;\n",
       "    }\n",
       "\n",
       "    .dataframe tbody tr th {\n",
       "        vertical-align: top;\n",
       "    }\n",
       "\n",
       "    .dataframe thead th {\n",
       "        text-align: right;\n",
       "    }\n",
       "</style>\n",
       "<table border=\"1\" class=\"dataframe\">\n",
       "  <thead>\n",
       "    <tr style=\"text-align: right;\">\n",
       "      <th></th>\n",
       "      <th>itemId</th>\n",
       "      <th>Xmin</th>\n",
       "      <th>Ymin</th>\n",
       "      <th>Xmax</th>\n",
       "      <th>Ymax</th>\n",
       "    </tr>\n",
       "  </thead>\n",
       "  <tbody>\n",
       "    <tr>\n",
       "      <th>0</th>\n",
       "      <td>5</td>\n",
       "      <td>184.333333</td>\n",
       "      <td>918.666667</td>\n",
       "      <td>501.333333</td>\n",
       "      <td>1248.666667</td>\n",
       "    </tr>\n",
       "    <tr>\n",
       "      <th>1</th>\n",
       "      <td>10</td>\n",
       "      <td>87.666667</td>\n",
       "      <td>562.666667</td>\n",
       "      <td>416.333333</td>\n",
       "      <td>855.333333</td>\n",
       "    </tr>\n",
       "    <tr>\n",
       "      <th>2</th>\n",
       "      <td>13</td>\n",
       "      <td>69.666667</td>\n",
       "      <td>603.000000</td>\n",
       "      <td>596.666667</td>\n",
       "      <td>966.666667</td>\n",
       "    </tr>\n",
       "    <tr>\n",
       "      <th>3</th>\n",
       "      <td>30</td>\n",
       "      <td>91.400000</td>\n",
       "      <td>365.600000</td>\n",
       "      <td>269.200000</td>\n",
       "      <td>459.200000</td>\n",
       "    </tr>\n",
       "    <tr>\n",
       "      <th>4</th>\n",
       "      <td>32</td>\n",
       "      <td>28.166667</td>\n",
       "      <td>556.000000</td>\n",
       "      <td>256.166667</td>\n",
       "      <td>756.833333</td>\n",
       "    </tr>\n",
       "  </tbody>\n",
       "</table>\n",
       "</div>"
      ],
      "text/plain": [
       "   itemId        Xmin        Ymin        Xmax         Ymax\n",
       "0       5  184.333333  918.666667  501.333333  1248.666667\n",
       "1      10   87.666667  562.666667  416.333333   855.333333\n",
       "2      13   69.666667  603.000000  596.666667   966.666667\n",
       "3      30   91.400000  365.600000  269.200000   459.200000\n",
       "4      32   28.166667  556.000000  256.166667   756.833333"
      ]
     },
     "execution_count": 12,
     "metadata": {},
     "output_type": "execute_result"
    }
   ],
   "source": [
    "quorum.head()"
   ]
  }
 ],
 "metadata": {
  "kernelspec": {
   "display_name": "Python 3",
   "language": "python",
   "name": "python3"
  },
  "language_info": {
   "codemirror_mode": {
    "name": "ipython",
    "version": 3
   },
   "file_extension": ".py",
   "mimetype": "text/x-python",
   "name": "python",
   "nbconvert_exporter": "python",
   "pygments_lexer": "ipython3",
   "version": "3.6.8"
  }
 },
 "nbformat": 4,
 "nbformat_minor": 2
}
